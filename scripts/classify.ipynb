{
 "cells": [
  {
   "cell_type": "code",
   "execution_count": 1,
   "metadata": {},
   "outputs": [],
   "source": [
    "import pandas as pd\n",
    "from sklearn.ensemble import RandomForestClassifier\n",
    "from sklearn.model_selection import train_test_split\n",
    "from sklearn.metrics import classification_report\n",
    "from sklearn.metrics import accuracy_score\n",
    "from sklearn.preprocessing import StandardScaler\n",
    "from sklearn.linear_model import LogisticRegression"
   ]
  },
  {
   "cell_type": "code",
   "execution_count": 2,
   "metadata": {},
   "outputs": [
    {
     "name": "stdout",
     "output_type": "stream",
     "text": [
      "C:\\Users\\Govert\\Documents\\VG_covers\n"
     ]
    }
   ],
   "source": [
    "%cd .."
   ]
  },
  {
   "cell_type": "code",
   "execution_count": 3,
   "metadata": {},
   "outputs": [
    {
     "data": {
      "text/html": [
       "<div>\n",
       "<style scoped>\n",
       "    .dataframe tbody tr th:only-of-type {\n",
       "        vertical-align: middle;\n",
       "    }\n",
       "\n",
       "    .dataframe tbody tr th {\n",
       "        vertical-align: top;\n",
       "    }\n",
       "\n",
       "    .dataframe thead th {\n",
       "        text-align: right;\n",
       "    }\n",
       "</style>\n",
       "<table border=\"1\" class=\"dataframe\">\n",
       "  <thead>\n",
       "    <tr style=\"text-align: right;\">\n",
       "      <th></th>\n",
       "      <th>id</th>\n",
       "      <th>face</th>\n",
       "      <th>median_h</th>\n",
       "      <th>median_s</th>\n",
       "      <th>median_v</th>\n",
       "      <th>std_h</th>\n",
       "      <th>std_s</th>\n",
       "      <th>std_v</th>\n",
       "      <th>binary</th>\n",
       "      <th>has_cars</th>\n",
       "    </tr>\n",
       "  </thead>\n",
       "  <tbody>\n",
       "    <tr>\n",
       "      <th>0</th>\n",
       "      <td>1</td>\n",
       "      <td>0</td>\n",
       "      <td>15.000000</td>\n",
       "      <td>0.888889</td>\n",
       "      <td>18.0</td>\n",
       "      <td>108.112625</td>\n",
       "      <td>0.412796</td>\n",
       "      <td>50.919083</td>\n",
       "      <td>1</td>\n",
       "      <td>False</td>\n",
       "    </tr>\n",
       "    <tr>\n",
       "      <th>1</th>\n",
       "      <td>100</td>\n",
       "      <td>0</td>\n",
       "      <td>63.333336</td>\n",
       "      <td>0.073298</td>\n",
       "      <td>154.0</td>\n",
       "      <td>55.796837</td>\n",
       "      <td>0.187915</td>\n",
       "      <td>80.551109</td>\n",
       "      <td>0</td>\n",
       "      <td>False</td>\n",
       "    </tr>\n",
       "    <tr>\n",
       "      <th>2</th>\n",
       "      <td>1000</td>\n",
       "      <td>0</td>\n",
       "      <td>40.000000</td>\n",
       "      <td>0.452632</td>\n",
       "      <td>51.0</td>\n",
       "      <td>94.552986</td>\n",
       "      <td>0.260581</td>\n",
       "      <td>60.660095</td>\n",
       "      <td>0</td>\n",
       "      <td>False</td>\n",
       "    </tr>\n",
       "    <tr>\n",
       "      <th>3</th>\n",
       "      <td>1001</td>\n",
       "      <td>0</td>\n",
       "      <td>85.816071</td>\n",
       "      <td>0.829787</td>\n",
       "      <td>195.0</td>\n",
       "      <td>79.904427</td>\n",
       "      <td>0.315882</td>\n",
       "      <td>62.971611</td>\n",
       "      <td>0</td>\n",
       "      <td>False</td>\n",
       "    </tr>\n",
       "    <tr>\n",
       "      <th>4</th>\n",
       "      <td>10017</td>\n",
       "      <td>1</td>\n",
       "      <td>210.270279</td>\n",
       "      <td>0.326700</td>\n",
       "      <td>172.0</td>\n",
       "      <td>104.401772</td>\n",
       "      <td>0.184765</td>\n",
       "      <td>66.292381</td>\n",
       "      <td>0</td>\n",
       "      <td>False</td>\n",
       "    </tr>\n",
       "  </tbody>\n",
       "</table>\n",
       "</div>"
      ],
      "text/plain": [
       "      id  face    median_h  median_s  median_v       std_h     std_s  \\\n",
       "0      1     0   15.000000  0.888889      18.0  108.112625  0.412796   \n",
       "1    100     0   63.333336  0.073298     154.0   55.796837  0.187915   \n",
       "2   1000     0   40.000000  0.452632      51.0   94.552986  0.260581   \n",
       "3   1001     0   85.816071  0.829787     195.0   79.904427  0.315882   \n",
       "4  10017     1  210.270279  0.326700     172.0  104.401772  0.184765   \n",
       "\n",
       "       std_v  binary  has_cars  \n",
       "0  50.919083       1     False  \n",
       "1  80.551109       0     False  \n",
       "2  60.660095       0     False  \n",
       "3  62.971611       0     False  \n",
       "4  66.292381       0     False  "
      ]
     },
     "execution_count": 3,
     "metadata": {},
     "output_type": "execute_result"
    }
   ],
   "source": [
    "df = pd.read_csv('output/full_features.csv', index_col = 0)\n",
    "df.head()"
   ]
  },
  {
   "cell_type": "code",
   "execution_count": 4,
   "metadata": {},
   "outputs": [],
   "source": [
    "feature_list = ['face','median_h','median_s','median_v','std_h','std_s','std_v','has_cars']\n",
    "X = df[feature_list]\n",
    "y = df['binary']"
   ]
  },
  {
   "cell_type": "code",
   "execution_count": 5,
   "metadata": {},
   "outputs": [
    {
     "name": "stdout",
     "output_type": "stream",
     "text": [
      "              precision    recall  f1-score   support\n",
      "\n",
      "    Under 16       0.84      0.67      0.75       287\n",
      "    Above 16       0.63      0.82      0.71       195\n",
      "\n",
      "    accuracy                           0.73       482\n",
      "   macro avg       0.73      0.74      0.73       482\n",
      "weighted avg       0.75      0.73      0.73       482\n",
      "\n",
      "0.7282157676348547\n"
     ]
    }
   ],
   "source": [
    "X_train, X_test, y_train, y_test = train_test_split(X, y, test_size = 0.2, stratify = y, random_state = 1)\n",
    "clf = RandomForestClassifier(max_features = 3, n_estimators = 300, \n",
    "                             max_depth = 5, class_weight = 'balanced', min_samples_leaf = 5)\n",
    "clf.fit(X_train, y_train)\n",
    "\n",
    "y_pred = clf.predict(X_test)\n",
    "\n",
    "print(classification_report(y_test, y_pred, target_names=['Under 16','Above 16']))\n",
    "print(accuracy_score(y_test, y_pred))"
   ]
  },
  {
   "cell_type": "code",
   "execution_count": 6,
   "metadata": {},
   "outputs": [
    {
     "data": {
      "text/html": [
       "<div>\n",
       "<style scoped>\n",
       "    .dataframe tbody tr th:only-of-type {\n",
       "        vertical-align: middle;\n",
       "    }\n",
       "\n",
       "    .dataframe tbody tr th {\n",
       "        vertical-align: top;\n",
       "    }\n",
       "\n",
       "    .dataframe thead th {\n",
       "        text-align: right;\n",
       "    }\n",
       "</style>\n",
       "<table border=\"1\" class=\"dataframe\">\n",
       "  <thead>\n",
       "    <tr style=\"text-align: right;\">\n",
       "      <th></th>\n",
       "      <th>feature</th>\n",
       "      <th>feature_importance</th>\n",
       "    </tr>\n",
       "  </thead>\n",
       "  <tbody>\n",
       "    <tr>\n",
       "      <th>3</th>\n",
       "      <td>median_v</td>\n",
       "      <td>0.325429</td>\n",
       "    </tr>\n",
       "    <tr>\n",
       "      <th>6</th>\n",
       "      <td>std_v</td>\n",
       "      <td>0.169288</td>\n",
       "    </tr>\n",
       "    <tr>\n",
       "      <th>1</th>\n",
       "      <td>median_h</td>\n",
       "      <td>0.128211</td>\n",
       "    </tr>\n",
       "    <tr>\n",
       "      <th>5</th>\n",
       "      <td>std_s</td>\n",
       "      <td>0.115906</td>\n",
       "    </tr>\n",
       "    <tr>\n",
       "      <th>2</th>\n",
       "      <td>median_s</td>\n",
       "      <td>0.109551</td>\n",
       "    </tr>\n",
       "    <tr>\n",
       "      <th>4</th>\n",
       "      <td>std_h</td>\n",
       "      <td>0.095087</td>\n",
       "    </tr>\n",
       "    <tr>\n",
       "      <th>7</th>\n",
       "      <td>has_cars</td>\n",
       "      <td>0.045145</td>\n",
       "    </tr>\n",
       "    <tr>\n",
       "      <th>0</th>\n",
       "      <td>face</td>\n",
       "      <td>0.011384</td>\n",
       "    </tr>\n",
       "  </tbody>\n",
       "</table>\n",
       "</div>"
      ],
      "text/plain": [
       "    feature  feature_importance\n",
       "3  median_v            0.325429\n",
       "6     std_v            0.169288\n",
       "1  median_h            0.128211\n",
       "5     std_s            0.115906\n",
       "2  median_s            0.109551\n",
       "4     std_h            0.095087\n",
       "7  has_cars            0.045145\n",
       "0      face            0.011384"
      ]
     },
     "metadata": {},
     "output_type": "display_data"
    }
   ],
   "source": [
    "feat_imp = list(clf.feature_importances_)\n",
    "imp_df = pd.DataFrame(zip(feature_list, feat_imp))\n",
    "imp_df.columns = ['feature','feature_importance']\n",
    "display(imp_df.sort_values('feature_importance', ascending = False))"
   ]
  },
  {
   "cell_type": "code",
   "execution_count": 7,
   "metadata": {},
   "outputs": [
    {
     "name": "stdout",
     "output_type": "stream",
     "text": [
      "              precision    recall  f1-score   support\n",
      "\n",
      "    Under 16       0.70      0.83      0.76       287\n",
      "    Above 16       0.66      0.48      0.56       195\n",
      "\n",
      "    accuracy                           0.69       482\n",
      "   macro avg       0.68      0.66      0.66       482\n",
      "weighted avg       0.69      0.69      0.68       482\n",
      "\n",
      "0.6908713692946058\n"
     ]
    }
   ],
   "source": [
    "scaler = StandardScaler()\n",
    "_ = scaler.fit(X_train)\n",
    "logreg = LogisticRegression()\n",
    "logreg.fit(scaler.transform(X_train), y_train)\n",
    "\n",
    "y_pred = logreg.predict(scaler.transform(X_test))\n",
    "print(classification_report(y_test, y_pred, target_names=['Under 16','Above 16']))\n",
    "print(accuracy_score(y_test, y_pred))"
   ]
  },
  {
   "cell_type": "code",
   "execution_count": 8,
   "metadata": {},
   "outputs": [
    {
     "data": {
      "text/html": [
       "<div>\n",
       "<style scoped>\n",
       "    .dataframe tbody tr th:only-of-type {\n",
       "        vertical-align: middle;\n",
       "    }\n",
       "\n",
       "    .dataframe tbody tr th {\n",
       "        vertical-align: top;\n",
       "    }\n",
       "\n",
       "    .dataframe thead th {\n",
       "        text-align: right;\n",
       "    }\n",
       "</style>\n",
       "<table border=\"1\" class=\"dataframe\">\n",
       "  <thead>\n",
       "    <tr style=\"text-align: right;\">\n",
       "      <th></th>\n",
       "      <th>feature</th>\n",
       "      <th>feature_coef</th>\n",
       "    </tr>\n",
       "  </thead>\n",
       "  <tbody>\n",
       "    <tr>\n",
       "      <th>6</th>\n",
       "      <td>std_v</td>\n",
       "      <td>0.463230</td>\n",
       "    </tr>\n",
       "    <tr>\n",
       "      <th>0</th>\n",
       "      <td>face</td>\n",
       "      <td>0.172296</td>\n",
       "    </tr>\n",
       "    <tr>\n",
       "      <th>4</th>\n",
       "      <td>std_h</td>\n",
       "      <td>-0.183157</td>\n",
       "    </tr>\n",
       "    <tr>\n",
       "      <th>1</th>\n",
       "      <td>median_h</td>\n",
       "      <td>-0.187821</td>\n",
       "    </tr>\n",
       "    <tr>\n",
       "      <th>5</th>\n",
       "      <td>std_s</td>\n",
       "      <td>-0.232825</td>\n",
       "    </tr>\n",
       "    <tr>\n",
       "      <th>2</th>\n",
       "      <td>median_s</td>\n",
       "      <td>-0.266978</td>\n",
       "    </tr>\n",
       "    <tr>\n",
       "      <th>7</th>\n",
       "      <td>has_cars</td>\n",
       "      <td>-0.381182</td>\n",
       "    </tr>\n",
       "    <tr>\n",
       "      <th>3</th>\n",
       "      <td>median_v</td>\n",
       "      <td>-0.638280</td>\n",
       "    </tr>\n",
       "  </tbody>\n",
       "</table>\n",
       "</div>"
      ],
      "text/plain": [
       "    feature  feature_coef\n",
       "6     std_v      0.463230\n",
       "0      face      0.172296\n",
       "4     std_h     -0.183157\n",
       "1  median_h     -0.187821\n",
       "5     std_s     -0.232825\n",
       "2  median_s     -0.266978\n",
       "7  has_cars     -0.381182\n",
       "3  median_v     -0.638280"
      ]
     },
     "metadata": {},
     "output_type": "display_data"
    }
   ],
   "source": [
    "coefs = list(logreg.coef_[0])\n",
    "coef_df = pd.DataFrame(zip(feature_list, coefs))\n",
    "coef_df.columns = ['feature','feature_coef']\n",
    "display(coef_df.sort_values('feature_coef', ascending = False))"
   ]
  }
 ],
 "metadata": {
  "kernelspec": {
   "display_name": "Python 3",
   "language": "python",
   "name": "python3"
  },
  "language_info": {
   "codemirror_mode": {
    "name": "ipython",
    "version": 3
   },
   "file_extension": ".py",
   "mimetype": "text/x-python",
   "name": "python",
   "nbconvert_exporter": "python",
   "pygments_lexer": "ipython3",
   "version": "3.8.10"
  }
 },
 "nbformat": 4,
 "nbformat_minor": 4
}
